{
 "cells": [
  {
   "cell_type": "code",
   "execution_count": null,
   "source": [
    "import great_expectations as ge\r\n",
    "import great_expectations.jupyter_ux\r\n",
    "\r\n",
    "from great_expectations.core.expectation_configuration import ExpectationConfiguration\r\n",
    "from great_expectations.data_context.types.resource_identifiers import ExpectationSuiteIdentifier\r\n",
    "from great_expectations.exceptions import DataContextError\r\n",
    "\r\n",
    "# Load / Create expectations suite\r\n",
    "context = ge.data_context.DataContext()\r\n",
    "expectation_suite_name = \"raw_data_suite\"\r\n",
    "try:\r\n",
    "    suite = context.get_expectation_suite(expectation_suite_name=expectation_suite_name)\r\n",
    "    print(f'Loaded ExpectationSuite \"{suite.expectation_suite_name}\" containing {len(suite.expectations)} expectations.')\r\n",
    "except DataContextError:\r\n",
    "    suite = context.create_expectation_suite(expectation_suite_name=expectation_suite_name, overwrite_existing=True)\r\n",
    "    print(f'Created ExpectationSuite \"{suite.expectation_suite_name}\".')"
   ],
   "outputs": [],
   "metadata": {}
  },
  {
   "cell_type": "code",
   "execution_count": 10,
   "source": [
    "# Add expectations\r\n",
    "# TODO Check results format argument of ExpectationConfiguration\r\n",
    "expt_config = ExpectationConfiguration(expectation_type=\"expect_column_values_to_not_be_null\",kwargs={\"column\": \"Open\",\"mostly\": 0.99})\r\n",
    "suite.add_expectation(expectation_configuration=expt_config)\r\n",
    "expt_config = ExpectationConfiguration(expectation_type=\"expect_column_values_to_not_be_null\",kwargs={\"column\": \"Close\",\"mostly\": 0.99, })\r\n",
    "suite.add_expectation(expectation_configuration=expt_config)\r\n",
    "expt_config = ExpectationConfiguration(expectation_type=\"expect_column_values_to_not_be_null\",kwargs={\"column\": \"High\",\"mostly\": 0.99, })\r\n",
    "suite.add_expectation(expectation_configuration=expt_config)\r\n",
    "expt_config = ExpectationConfiguration(expectation_type=\"expect_column_values_to_not_be_null\",kwargs={\"column\": \"Low\",\"mostly\": 0.99, })\r\n",
    "suite.add_expectation(expectation_configuration=expt_config)\r\n",
    "expt_config = ExpectationConfiguration(expectation_type=\"expect_column_values_to_not_be_null\",kwargs={\"column\": \"Volume\",\"mostly\": 0.99, })\r\n",
    "suite.add_expectation(expectation_configuration=expt_config)\r\n",
    "\r\n",
    "# Save expectations\r\n",
    "context.save_expectation_suite(expectation_suite=suite, expectation_suite_name=expectation_suite_name)\r\n",
    "# Review expectations\r\n",
    "print(context.get_expectation_suite(expectation_suite_name=expectation_suite_name))"
   ],
   "outputs": [
    {
     "output_type": "stream",
     "name": "stdout",
     "text": [
      "{\n",
      "  \"data_asset_type\": null,\n",
      "  \"meta\": {\n",
      "    \"great_expectations_version\": \"0.13.28\"\n",
      "  },\n",
      "  \"expectation_suite_name\": \"raw_data_suite\",\n",
      "  \"expectations\": [\n",
      "    {\n",
      "      \"kwargs\": {\n",
      "        \"column\": \"Open\",\n",
      "        \"mostly\": 0.99,\n",
      "        \"result_format\": \"SUMMARY\"\n",
      "      },\n",
      "      \"meta\": {},\n",
      "      \"expectation_type\": \"expect_column_values_to_not_be_null\"\n",
      "    },\n",
      "    {\n",
      "      \"kwargs\": {\n",
      "        \"column\": \"Close\",\n",
      "        \"mostly\": 0.99\n",
      "      },\n",
      "      \"meta\": {},\n",
      "      \"expectation_type\": \"expect_column_values_to_not_be_null\"\n",
      "    },\n",
      "    {\n",
      "      \"kwargs\": {\n",
      "        \"column\": \"High\",\n",
      "        \"mostly\": 0.99\n",
      "      },\n",
      "      \"meta\": {},\n",
      "      \"expectation_type\": \"expect_column_values_to_not_be_null\"\n",
      "    },\n",
      "    {\n",
      "      \"kwargs\": {\n",
      "        \"column\": \"Low\",\n",
      "        \"mostly\": 0.99\n",
      "      },\n",
      "      \"meta\": {},\n",
      "      \"expectation_type\": \"expect_column_values_to_not_be_null\"\n",
      "    },\n",
      "    {\n",
      "      \"kwargs\": {\n",
      "        \"column\": \"Volume\",\n",
      "        \"mostly\": 0.99\n",
      "      },\n",
      "      \"meta\": {},\n",
      "      \"expectation_type\": \"expect_column_values_to_not_be_null\"\n",
      "    }\n",
      "  ]\n",
      "}\n"
     ]
    }
   ],
   "metadata": {}
  },
  {
   "cell_type": "code",
   "execution_count": 8,
   "source": [
    "# Build data docs\r\n",
    "suite_identifier = ExpectationSuiteIdentifier(expectation_suite_name=expectation_suite_name)\r\n",
    "context.build_data_docs(resource_identifiers=[suite_identifier])\r\n",
    "# Check the data docs\r\n",
    "context.open_data_docs(resource_identifier=suite_identifier)"
   ],
   "outputs": [],
   "metadata": {}
  }
 ],
 "metadata": {
  "orig_nbformat": 4,
  "language_info": {
   "name": "python",
   "version": "3.8.10",
   "mimetype": "text/x-python",
   "codemirror_mode": {
    "name": "ipython",
    "version": 3
   },
   "pygments_lexer": "ipython3",
   "nbconvert_exporter": "python",
   "file_extension": ".py"
  },
  "kernelspec": {
   "name": "python3",
   "display_name": "Python 3.8.10 64-bit"
  },
  "interpreter": {
   "hash": "2db524e06e9f5f4ffedc911c917cb75e12dbc923643829bf417064a77eb14d37"
  }
 },
 "nbformat": 4,
 "nbformat_minor": 2
}